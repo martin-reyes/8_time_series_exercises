{
 "cells": [
  {
   "cell_type": "code",
   "execution_count": 4,
   "id": "3e6c498f",
   "metadata": {},
   "outputs": [],
   "source": [
    "import statsmodels.tsa.api import Holt, ExponentialSmoothing\n",
    "\n",
    "from sklearn.metrics import mean_squared_error, r2_score\n",
    "\n",
    "import itertools as it"
   ]
  },
  {
   "cell_type": "markdown",
   "id": "72159b87",
   "metadata": {},
   "source": [
    "Using saas.csv or log data from API usage\n",
    "\n",
    "1. Split data (train/test) and resample by any period, except daily, and aggregate using the sum.\n",
    "2. Forecast, plot and evaluate using each at least 4 of the methods we discussed:\n",
    "- Last Observed Value\n",
    "- Simple Average\n",
    "- Moving Average\n",
    "- Holt's Linear Trend\n",
    "- Holt's Seasonal Trend\n",
    "- Based on previous year/month/etc., this is up to you."
   ]
  },
  {
   "cell_type": "code",
   "execution_count": null,
   "id": "08e7dae8",
   "metadata": {},
   "outputs": [],
   "source": []
  },
  {
   "cell_type": "markdown",
   "id": "699a6afc",
   "metadata": {},
   "source": [
    "Holt-Winters\n",
    "\n",
    "Seasonal-Decomposition"
   ]
  },
  {
   "cell_type": "code",
   "execution_count": null,
   "id": "9304ef44",
   "metadata": {},
   "outputs": [],
   "source": []
  },
  {
   "cell_type": "markdown",
   "id": "fd11c362",
   "metadata": {},
   "source": [
    "Holt's Linear Trend\n",
    "\n",
    "1. Create object `Holt()`\n",
    "2. Fit `fit()`\n",
    "3. predict `predict()`\n",
    "\n",
    "Parameters:\n",
    "\n",
    "- exponnential\n",
    "- damped\n",
    "\n",
    "- smoothing_level ($\\alpha$)\n",
    "- smoothing_slope ($\\beta$)\n",
    "- optimized"
   ]
  },
  {
   "cell_type": "code",
   "execution_count": null,
   "id": "dc589731",
   "metadata": {},
   "outputs": [],
   "source": [
    "model = Holt(train[target], exponential=False, damped=True)\n",
    "model = model.fit(optimized=True)\n",
    "y_hat = model.predict(start=train[target][0], end=train[target][-1])"
   ]
  },
  {
   "cell_type": "markdown",
   "id": "79e589c4",
   "metadata": {},
   "source": [
    "Holt's Seasonal Trend\n",
    "\n",
    "1. Create object `ExponentialSmoothing()`\n",
    "2. Fit `fit()`\n",
    "3. predict `forecast()`\n",
    "\n",
    "Parameters:\n",
    "\n",
    "- seasonal_periods\n",
    "- tread: `add`/`mil`\n",
    "- seasonal: `add`/`mil`\n",
    "- damped\n"
   ]
  },
  {
   "cell_type": "code",
   "execution_count": null,
   "id": "a6bbb732",
   "metadata": {},
   "outputs": [],
   "source": [
    "combos = list(it.product(['add', 'mul'], [True, False]))"
   ]
  }
 ],
 "metadata": {
  "kernelspec": {
   "display_name": "Python 3 (ipykernel)",
   "language": "python",
   "name": "python3"
  },
  "language_info": {
   "codemirror_mode": {
    "name": "ipython",
    "version": 3
   },
   "file_extension": ".py",
   "mimetype": "text/x-python",
   "name": "python",
   "nbconvert_exporter": "python",
   "pygments_lexer": "ipython3",
   "version": "3.10.9"
  },
  "varInspector": {
   "cols": {
    "lenName": 16,
    "lenType": 16,
    "lenVar": 40
   },
   "kernels_config": {
    "python": {
     "delete_cmd_postfix": "",
     "delete_cmd_prefix": "del ",
     "library": "var_list.py",
     "varRefreshCmd": "print(var_dic_list())"
    },
    "r": {
     "delete_cmd_postfix": ") ",
     "delete_cmd_prefix": "rm(",
     "library": "var_list.r",
     "varRefreshCmd": "cat(var_dic_list()) "
    }
   },
   "types_to_exclude": [
    "module",
    "function",
    "builtin_function_or_method",
    "instance",
    "_Feature"
   ],
   "window_display": false
  }
 },
 "nbformat": 4,
 "nbformat_minor": 5
}
